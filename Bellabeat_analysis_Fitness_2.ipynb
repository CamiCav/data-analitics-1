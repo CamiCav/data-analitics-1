{
  "metadata": {
    "kernelspec": {
      "name": "ir",
      "display_name": "R",
      "language": "R"
    },
    "language_info": {
      "name": "R",
      "codemirror_mode": "r",
      "pygments_lexer": "r",
      "mimetype": "text/x-r-source",
      "file_extension": ".r",
      "version": "4.0.5"
    },
    "kaggle": {
      "accelerator": "none",
      "dataSources": [
        {
          "sourceId": 7746251,
          "sourceType": "datasetVersion",
          "datasetId": 1041311
        }
      ],
      "dockerImageVersionId": 30618,
      "isInternetEnabled": false,
      "language": "r",
      "sourceType": "notebook",
      "isGpuEnabled": false
    },
    "colab": {
      "name": "Bellabeat analysis Fitness 2",
      "provenance": []
    }
  },
  "nbformat_minor": 0,
  "nbformat": 4,
  "cells": [
    {
      "source": [
        "\n",
        "# IMPORTANT: RUN THIS CELL IN ORDER TO IMPORT YOUR KAGGLE DATA SOURCES\n",
        "# TO THE CORRECT LOCATION (/kaggle/input) IN YOUR NOTEBOOK,\n",
        "# THEN FEEL FREE TO DELETE THIS CELL.\n",
        "# NOTE: THIS NOTEBOOK ENVIRONMENT DIFFERS FROM KAGGLE'S R\n",
        "# ENVIRONMENT SO THERE MAY BE MISSING LIBRARIES USED BY YOUR\n",
        "# NOTEBOOK.\n",
        "\n",
        "DATA_SOURCE_MAPPING = 'fitbit:https%3A%2F%2Fstorage.googleapis.com%2Fkaggle-data-sets%2F1041311%2F7746251%2Fbundle%2Farchive.zip%3FX-Goog-Algorithm%3DGOOG4-RSA-SHA256%26X-Goog-Credential%3Dgcp-kaggle-com%2540kaggle-161607.iam.gserviceaccount.com%252F20241111%252Fauto%252Fstorage%252Fgoog4_request%26X-Goog-Date%3D20241111T144429Z%26X-Goog-Expires%3D259200%26X-Goog-SignedHeaders%3Dhost%26X-Goog-Signature%3D3c028733f0ab03d4b7a0e48aed512a12b6ad04dd806b60b583383197fa3bb7d6085431a00e6a2ff475d63b7624d246e828093d3150c402e176ba56969359dc83086749675d250e4162e58c29583ab7ffabd8bc48aebe9f87a00ca818a8ca8e1ae61d9510f74c43d2fe2ad4b7124ededfbbd802c6ad99e0e17659d013b72e489f3012f03200d2ba1af8d1d9341e98b37e297be65e576560afb807681e26bbdec60a1255d1e6ece5c7232d9f0ba1b65e7bbee02510f6ed9d1b6c7a2a208ed3687accdb2709b0790062ccbba14dfbc01c4d9f132f2c4c16bc1c0af364150ab4e42bdf4fc9fbda3cc662b861f0dbba68876d60363c02e543aa340c63938048ddff5c'\n",
        "\n",
        "KAGGLE_INPUT_PATH = '/kaggle/input'\n",
        "KAGGLE_WORKING_PATH = '/kaggle/working'\n",
        "\n",
        "system(paste0('sudo umount ', '/kaggle/input'))\n",
        "system(paste0('sudo rmdir ', '/kaggle/input'))\n",
        "system(paste0('sudo mkdir -p -- ', KAGGLE_INPUT_PATH), intern=TRUE)\n",
        "system(paste0('sudo chmod 777 ', KAGGLE_INPUT_PATH), intern=TRUE)\n",
        "system(\n",
        "  paste0('sudo ln -sfn ', KAGGLE_INPUT_PATH,' ',file.path('..', 'input')),\n",
        "  intern=TRUE)\n",
        "\n",
        "system(paste0('sudo mkdir -p -- ', KAGGLE_WORKING_PATH), intern=TRUE)\n",
        "system(paste0('sudo chmod 777 ', KAGGLE_WORKING_PATH), intern=TRUE)\n",
        "system(\n",
        "  paste0('sudo ln -sfn ', KAGGLE_WORKING_PATH, ' ', file.path('..', 'working')),\n",
        "  intern=TRUE)\n",
        "\n",
        "data_source_mappings = strsplit(DATA_SOURCE_MAPPING, ',')[[1]]\n",
        "for (data_source_mapping in data_source_mappings) {\n",
        "    path_and_url = strsplit(data_source_mapping, ':')\n",
        "    directory = path_and_url[[1]][1]\n",
        "    download_url = URLdecode(path_and_url[[1]][2])\n",
        "    filename = sub(\"\\\\?.+\", \"\", download_url)\n",
        "    destination_path = file.path(KAGGLE_INPUT_PATH, directory)\n",
        "    print(paste0('Downloading and uncompressing: ', directory))\n",
        "    if (endsWith(filename, '.zip')){\n",
        "      temp = tempfile(fileext = '.zip')\n",
        "      download.file(download_url, temp)\n",
        "      unzip(temp, overwrite = TRUE, exdir = destination_path)\n",
        "      unlink(temp)\n",
        "    }\n",
        "    else{\n",
        "      temp = tempfile(fileext = '.tar')\n",
        "      download.file(download_url, temp)\n",
        "      untar(temp, exdir = destination_path)\n",
        "      unlink(temp)\n",
        "    }\n",
        "    print(paste0('Downloaded and uncompressed: ', directory))\n",
        "}\n",
        "\n",
        "print(paste0('Data source import complete'))\n"
      ],
      "metadata": {
        "id": "1eDqhsT85QJ3"
      },
      "cell_type": "code",
      "outputs": [],
      "execution_count": null
    },
    {
      "cell_type": "markdown",
      "source": [
        "---\n",
        "\"Registros Fitbit, tendencias de usuarios de dispositivos inteligentes\n",
        "---\n",
        "\n",
        "## Code/Codigo\n",
        "\n"
      ],
      "metadata": {
        "id": "8UEhfUES5QJ6"
      }
    },
    {
      "cell_type": "code",
      "source": [
        "dailyActivity_merged <- read.csv(\"/kaggle/input/fitbit/mturkfitbit_export_3.12.16-4.11.16/Fitabase Data 3.12.16-4.11.16/dailyActivity_merged.csv\")\n",
        "dailyCalories_merged <- read.csv(\"/kaggle/input/fitbit/mturkfitbit_export_4.12.16-5.12.16/Fitabase Data 4.12.16-5.12.16/dailyCalories_merged.csv\")\n",
        "dailyIntensities_merged <- read.csv(\"/kaggle/input/fitbit/mturkfitbit_export_4.12.16-5.12.16/Fitabase Data 4.12.16-5.12.16/dailyIntensities_merged.csv\")"
      ],
      "metadata": {
        "_uuid": "051d70d956493feee0c6d64651c6a088724dca2a",
        "_execution_state": "idle",
        "execution": {
          "iopub.status.busy": "2024-06-22T22:04:09.32365Z",
          "iopub.execute_input": "2024-06-22T22:04:09.325817Z",
          "iopub.status.idle": "2024-06-22T22:04:09.368968Z"
        },
        "trusted": true,
        "id": "SdJAY6QP5QJ8"
      },
      "execution_count": null,
      "outputs": []
    },
    {
      "cell_type": "markdown",
      "source": [
        "### After loading the databases (FitBit Fitness Tracker Data), install tidyverse to use the tools / Luego de cargar las bases de datos, instalamos tidyverse para usar las herramientas"
      ],
      "metadata": {
        "id": "XL5GhnPT5QJ9"
      }
    },
    {
      "cell_type": "code",
      "source": [
        "library(tidyverse)\n",
        "library(dplyr)\n",
        "library(lubridate)"
      ],
      "metadata": {
        "execution": {
          "iopub.status.busy": "2024-06-22T22:04:09.372056Z",
          "iopub.execute_input": "2024-06-22T22:04:09.373559Z",
          "iopub.status.idle": "2024-06-22T22:04:09.390514Z"
        },
        "trusted": true,
        "id": "E3Gk8Ih15QJ-"
      },
      "execution_count": null,
      "outputs": []
    },
    {
      "cell_type": "markdown",
      "source": [
        "### To know the total number of users, according to id, in this case there are 33 users / Para saber el total de usuarios, según id, en este caso son 33 usuarios"
      ],
      "metadata": {
        "id": "UmO_Zkf25QJ_"
      }
    },
    {
      "cell_type": "code",
      "source": [
        "distinct(dailyActivity_merged,Id)"
      ],
      "metadata": {
        "execution": {
          "iopub.status.busy": "2024-06-22T22:04:09.393255Z",
          "iopub.execute_input": "2024-06-22T22:04:09.394891Z",
          "iopub.status.idle": "2024-06-22T22:04:09.438948Z"
        },
        "trusted": true,
        "id": "emDw3yfI5QJ_"
      },
      "execution_count": null,
      "outputs": []
    },
    {
      "cell_type": "markdown",
      "source": [
        "### To know the number of days for which there is a record, in this case 31 days/ para saber la cantidad de días de los cuales se tiene registro, en este caso 31 días"
      ],
      "metadata": {
        "id": "u5sqtAqK5QJ_"
      }
    },
    {
      "cell_type": "code",
      "source": [
        "distinct(dailyActivity_merged,ActivityDate)"
      ],
      "metadata": {
        "execution": {
          "iopub.status.busy": "2024-06-22T22:04:09.441848Z",
          "iopub.execute_input": "2024-06-22T22:04:09.443386Z",
          "iopub.status.idle": "2024-06-22T22:04:09.472976Z"
        },
        "trusted": true,
        "id": "-a7CSqOp5QKA"
      },
      "execution_count": null,
      "outputs": []
    },
    {
      "cell_type": "markdown",
      "source": [
        "### We request a summary of the table / solicitamos un resumen de la tabla"
      ],
      "metadata": {
        "id": "njDbYmVj5QKC"
      }
    },
    {
      "cell_type": "code",
      "source": [
        "summary(dailyActivity_merged)"
      ],
      "metadata": {
        "execution": {
          "iopub.status.busy": "2024-06-22T22:04:09.475722Z",
          "iopub.execute_input": "2024-06-22T22:04:09.477178Z",
          "iopub.status.idle": "2024-06-22T22:04:09.499203Z"
        },
        "trusted": true,
        "id": "BfhLP_Rh5QKC"
      },
      "execution_count": null,
      "outputs": []
    },
    {
      "cell_type": "markdown",
      "source": [
        "### We request a summary of the average steps taken by users, grouped by day / solicitamos el resumen de promedio de pasos dados por los usuarios, agrupados por día"
      ],
      "metadata": {
        "id": "r1SzCe-85QKD"
      }
    },
    {
      "cell_type": "code",
      "source": [
        "dailyActivity_merged %>%\n",
        "  group_by(ActivityDate) %>%\n",
        "  summarise(prom_totalsteps = mean(TotalSteps))"
      ],
      "metadata": {
        "execution": {
          "iopub.status.busy": "2024-06-22T22:04:09.502088Z",
          "iopub.execute_input": "2024-06-22T22:04:09.503634Z",
          "iopub.status.idle": "2024-06-22T22:04:09.544999Z"
        },
        "trusted": true,
        "id": "HE80Xgbg5QKD"
      },
      "execution_count": null,
      "outputs": []
    },
    {
      "cell_type": "markdown",
      "source": [
        "### We are going to calculate the average number of steps that users take / vamos a calcular el promedio de pasos que dan los usuarios"
      ],
      "metadata": {
        "id": "MDC-l0bh5QKE"
      }
    },
    {
      "cell_type": "code",
      "source": [
        "dailyActivity_merged %>%\n",
        "  summarise(prom_totalsteps = mean(TotalSteps))"
      ],
      "metadata": {
        "execution": {
          "iopub.status.busy": "2024-06-22T22:04:09.547788Z",
          "iopub.execute_input": "2024-06-22T22:04:09.549332Z",
          "iopub.status.idle": "2024-06-22T22:04:09.571718Z"
        },
        "trusted": true,
        "id": "IQbENOZF5QKE"
      },
      "execution_count": null,
      "outputs": []
    },
    {
      "cell_type": "markdown",
      "source": [
        "## We put a shorter name to the table to work with it more easily / ponemos un nombre mas corto a la tabla para trabajar con ella de manera mas sencilla"
      ],
      "metadata": {
        "id": "0bQhNzuW5QKE"
      }
    },
    {
      "cell_type": "code",
      "source": [
        "df_m11 <- dailyActivity_merged"
      ],
      "metadata": {
        "execution": {
          "iopub.status.busy": "2024-06-22T22:04:09.57452Z",
          "iopub.execute_input": "2024-06-22T22:04:09.576039Z",
          "iopub.status.idle": "2024-06-22T22:04:09.588874Z"
        },
        "trusted": true,
        "id": "o5enM6EN5QKE"
      },
      "execution_count": null,
      "outputs": []
    },
    {
      "cell_type": "markdown",
      "source": [
        "### we verify that our name change is working / verificamos que nuestro cambio de nombre esté funcionando"
      ],
      "metadata": {
        "id": "1M32IFLk5QKF"
      }
    },
    {
      "cell_type": "code",
      "source": [
        "df_m11 %>%\n",
        "  summarise(prom_totalsteps = mean(TotalSteps))\n",
        "\n",
        "df_m11 %>%\n",
        "  summarise(prom_totalcalories = mean(Calories))"
      ],
      "metadata": {
        "execution": {
          "iopub.status.busy": "2024-06-22T22:04:09.591546Z",
          "iopub.execute_input": "2024-06-22T22:04:09.593007Z",
          "iopub.status.idle": "2024-06-22T22:04:09.627947Z"
        },
        "trusted": true,
        "id": "eu0pdPQS5QKF"
      },
      "execution_count": null,
      "outputs": []
    },
    {
      "cell_type": "markdown",
      "source": [
        "### Graph of Total Steps (TotalSteps) vs Calories (Calories) / grafica del Total de pasos (TotalSteps) vs Calorias (Calories)"
      ],
      "metadata": {
        "id": "IY0NyedB5QKF"
      }
    },
    {
      "cell_type": "code",
      "source": [
        "ggplot(data = dailyActivity_merged) +\n",
        "  geom_point(mapping = aes(x=TotalSteps, y=Calories)) +\n",
        "  labs( title = \"Calories vs Steps\", subtitle = \"base de datos público Fitbit kaggle 2016\")\n"
      ],
      "metadata": {
        "execution": {
          "iopub.status.busy": "2024-06-22T22:04:09.630744Z",
          "iopub.execute_input": "2024-06-22T22:04:09.632259Z",
          "iopub.status.idle": "2024-06-22T22:04:09.909318Z"
        },
        "trusted": true,
        "id": "H1JH47aE5QKF"
      },
      "execution_count": null,
      "outputs": []
    },
    {
      "cell_type": "markdown",
      "source": [
        "## Create a new variable based on our average steps per day / Creamos nueva variable en base a nuestros promedios de pasos por día"
      ],
      "metadata": {
        "id": "WRTZPWkJ5QKG"
      }
    },
    {
      "cell_type": "code",
      "source": [
        "promtotalsteps <- dailyActivity_merged %>%\n",
        "  group_by(ActivityDate) %>%\n",
        "  summarise(prom_totalsteps = mean(TotalSteps)) %>%\n",
        "  pull(prom_totalsteps)"
      ],
      "metadata": {
        "execution": {
          "iopub.status.busy": "2024-06-22T22:04:09.912814Z",
          "iopub.execute_input": "2024-06-22T22:04:09.915398Z",
          "iopub.status.idle": "2024-06-22T22:04:09.937268Z"
        },
        "trusted": true,
        "id": "gH9ee_Yf5QKG"
      },
      "execution_count": null,
      "outputs": []
    },
    {
      "cell_type": "markdown",
      "source": [
        "## Create new variable based on our average calories per day / Cree nueva variable en base a nuestros promedio de calorias por dia"
      ],
      "metadata": {
        "id": "R6-YbCIk5QKG"
      }
    },
    {
      "cell_type": "code",
      "source": [
        "promtotalcalories <- dailyActivity_merged %>%\n",
        "  group_by(ActivityDate) %>%\n",
        "  summarise(prom_totalcalories = mean(Calories)) %>%\n",
        "  pull(prom_totalcalories)"
      ],
      "metadata": {
        "execution": {
          "iopub.status.busy": "2024-06-22T22:04:09.94153Z",
          "iopub.execute_input": "2024-06-22T22:04:09.943488Z",
          "iopub.status.idle": "2024-06-22T22:04:09.965741Z"
        },
        "trusted": true,
        "id": "TJB-WeXt5QKG"
      },
      "execution_count": null,
      "outputs": []
    },
    {
      "cell_type": "markdown",
      "source": [
        "## Create new dataframe with our created daily averages variables / Cree nueva dataframe con nuestras variables de promedios diarios creados.\n",
        "\n",
        "## It is very important in the previous steps to use pull to correctly extract the values if we later want to graph / Es muy importante en los pasos anteriores usar pull para extraer correctamente los valores si luego queremos graficar."
      ],
      "metadata": {
        "id": "V3ZtdE4c5QKH"
      }
    },
    {
      "cell_type": "code",
      "source": [
        "promedios_agrupados <- dailyActivity_merged %>%\n",
        "  reframe(promediopasos = promtotalsteps,\n",
        "            promediocalorias = promtotalcalories)\n",
        "\n",
        "View(promedios_agrupados)"
      ],
      "metadata": {
        "execution": {
          "iopub.status.busy": "2024-06-22T22:04:09.970179Z",
          "iopub.execute_input": "2024-06-22T22:04:09.971806Z",
          "iopub.status.idle": "2024-06-22T22:04:10.01313Z"
        },
        "trusted": true,
        "id": "gXt6ZdnS5QKH"
      },
      "execution_count": null,
      "outputs": []
    },
    {
      "cell_type": "markdown",
      "source": [
        "###  Next comes the graph of our new data frame  / Luego viene el gráfico de nuestro nuevo marco de datos"
      ],
      "metadata": {
        "id": "qHPcbn_k5QKH"
      }
    },
    {
      "cell_type": "code",
      "source": [
        "ggplot(data = promedios_agrupados) +\n",
        "  geom_point(mapping = aes(x =promediopasos, y =promediocalorias, color= promediocalorias)) +\n",
        "  labs(title = \"Pasospromedio vs Calorías\", subtitle = \"base de datos publica Fitbit kaggle 2016\")"
      ],
      "metadata": {
        "execution": {
          "iopub.status.busy": "2024-06-22T22:04:10.017144Z",
          "iopub.execute_input": "2024-06-22T22:04:10.018649Z",
          "iopub.status.idle": "2024-06-22T22:04:10.32323Z"
        },
        "trusted": true,
        "id": "SqZRq5x_5QKH"
      },
      "execution_count": null,
      "outputs": []
    },
    {
      "cell_type": "markdown",
      "source": [
        "### Now we will work with our other data, about daily calories, we will group them to know how many calories each user spends in a month (approximate) / Ahora trabajaremos con nuestros otros datos, sobre calorias diarias, las agruparemos para saber cuantas calorias gasta cada usuario en un mes(aproximado)"
      ],
      "metadata": {
        "id": "Nk2ZT8L55QKH"
      }
    },
    {
      "cell_type": "code",
      "source": [
        "AVGCaloriesId <-dailyCalories_merged %>%\n",
        "  group_by(Id) %>%\n",
        "  summarise(calories = mean(Calories))"
      ],
      "metadata": {
        "execution": {
          "iopub.status.busy": "2024-06-22T22:04:10.327748Z",
          "iopub.execute_input": "2024-06-22T22:04:10.329321Z",
          "iopub.status.idle": "2024-06-22T22:04:10.349864Z"
        },
        "trusted": true,
        "id": "n3HgrDOT5QKI"
      },
      "execution_count": null,
      "outputs": []
    },
    {
      "cell_type": "markdown",
      "source": [
        "### Now to graph our monthly calories / Ahora graficamos las calorias mensuales"
      ],
      "metadata": {
        "id": "dC43Ky_a5QKI"
      }
    },
    {
      "cell_type": "code",
      "source": [
        "ggplot(data = AVGCaloriesId) +\n",
        "  geom_line(mapping=aes(x=Id, y=calories, color=calories))+\n",
        "  labs(title = \"Users vs calories per month\", subtitle = \"Public data FitBit Kaggle 2016\")"
      ],
      "metadata": {
        "execution": {
          "iopub.status.busy": "2024-06-22T22:04:10.354014Z",
          "iopub.execute_input": "2024-06-22T22:04:10.35579Z",
          "iopub.status.idle": "2024-06-22T22:04:10.678743Z"
        },
        "trusted": true,
        "id": "wEZebt-m5QKI"
      },
      "execution_count": null,
      "outputs": []
    },
    {
      "cell_type": "markdown",
      "source": [
        "### Let's see sedentary lifestyle vs calories /  Vamos a ver el sedentarismo vs las calorias"
      ],
      "metadata": {
        "id": "EBhOcRBD5QKJ"
      }
    },
    {
      "cell_type": "code",
      "source": [
        "avgsedentarismoid <- dailyActivity_merged %>%\n",
        "  group_by(Id) %>%\n",
        "  summarise(sedentarioid = mean(SedentaryMinutes)) %>%\n",
        "  pull(sedentarioid)"
      ],
      "metadata": {
        "execution": {
          "iopub.status.busy": "2024-06-22T22:04:10.683254Z",
          "iopub.execute_input": "2024-06-22T22:04:10.685673Z",
          "iopub.status.idle": "2024-06-22T22:04:10.706749Z"
        },
        "trusted": true,
        "id": "AVusYoH65QKJ"
      },
      "execution_count": null,
      "outputs": []
    },
    {
      "cell_type": "code",
      "source": [
        "avgcaloriasid <- dailyActivity_merged %>%\n",
        "  group_by(Id) %>%\n",
        "  summarise(caloriasid = mean(Calories)) %>%\n",
        "  pull(caloriasid)"
      ],
      "metadata": {
        "execution": {
          "iopub.status.busy": "2024-06-22T22:04:10.711242Z",
          "iopub.execute_input": "2024-06-22T22:04:10.712838Z",
          "iopub.status.idle": "2024-06-22T22:04:10.733404Z"
        },
        "trusted": true,
        "id": "MLQNHwFU5QKK"
      },
      "execution_count": null,
      "outputs": []
    },
    {
      "cell_type": "code",
      "source": [
        "avgAgrupados <- dailyActivity_merged %>%\n",
        "  reframe(caloriasid = avgcaloriasid, sedentarioid = avgsedentarismoid)\n",
        "\n"
      ],
      "metadata": {
        "execution": {
          "iopub.status.busy": "2024-06-22T22:04:10.736206Z",
          "iopub.execute_input": "2024-06-22T22:04:10.737745Z",
          "iopub.status.idle": "2024-06-22T22:04:10.755164Z"
        },
        "trusted": true,
        "id": "ZYSQ5Lz_5QKK"
      },
      "execution_count": null,
      "outputs": []
    },
    {
      "cell_type": "markdown",
      "source": [
        "### add our columns of different types of activity, to talk about total activity / podemos sumar nuestras columnas de distintos tipos de actividad, para hablar de actividad total"
      ],
      "metadata": {
        "id": "EGfsMVXt5QKK"
      }
    },
    {
      "cell_type": "code",
      "source": [
        "dailyActivity_merged <- mutate(dailyActivity_merged, activitytotal = VeryActiveMinutes+FairlyActiveMinutes+LightlyActiveMinutes)"
      ],
      "metadata": {
        "execution": {
          "iopub.status.busy": "2024-06-22T22:04:10.758263Z",
          "iopub.execute_input": "2024-06-22T22:04:10.759891Z",
          "iopub.status.idle": "2024-06-22T22:04:10.774977Z"
        },
        "trusted": true,
        "id": "ZnsLjkRa5QKK"
      },
      "execution_count": null,
      "outputs": []
    },
    {
      "cell_type": "markdown",
      "source": [
        "### Then we graph both to compare /  Luego graficamos ambos para comparar"
      ],
      "metadata": {
        "id": "m2LocT9V5QKL"
      }
    },
    {
      "cell_type": "code",
      "source": [
        "ggplot(data= dailyActivity_merged) +\n",
        "  geom_smooth(mapping = aes(x=activitytotal, y= Calories)) +\n",
        "  labs(title = \"Calorias vs Actividad\", subtitle = \"public data Kaggle 2016\")"
      ],
      "metadata": {
        "execution": {
          "iopub.status.busy": "2024-06-22T22:04:10.778251Z",
          "iopub.execute_input": "2024-06-22T22:04:10.779825Z",
          "iopub.status.idle": "2024-06-22T22:04:11.11213Z"
        },
        "trusted": true,
        "id": "J-mjgJdt5QKL"
      },
      "execution_count": null,
      "outputs": []
    },
    {
      "cell_type": "code",
      "source": [
        "ggplot(data = avgAgrupados) +\n",
        "  geom_smooth(mapping = aes(x= sedentarioid, y = caloriasid)) +\n",
        "  labs(title = \"Calorias vs sedentarismo\", subtitle = \"public data Kaggle 2016\")"
      ],
      "metadata": {
        "execution": {
          "iopub.status.busy": "2024-06-22T22:04:46.294354Z",
          "iopub.execute_input": "2024-06-22T22:04:46.296099Z",
          "iopub.status.idle": "2024-06-22T22:04:46.585415Z"
        },
        "trusted": true,
        "id": "wB7Zftmq5QKM"
      },
      "execution_count": null,
      "outputs": []
    },
    {
      "cell_type": "markdown",
      "source": [
        "### It is my first notebook on kaggle and in life, I hope it is not the last.\n",
        "### Can say that smart device users tend to walk much further than the average person ###The average number of steps per day that a user of \"fitbit\" type devices gives is **6547**\n",
        "\n",
        "### Of course, they also burn more calories than the average person\n",
        "### The average calories consumed by users are **2190**\n",
        "### Interesting trends can be seen in the last 2 graphs.\n",
        "\n",
        "### There comes a point where the level of sedentary lifestyle (approximately 1000 average minutes of sedentary type activity) leads to the calories consumed being much lower.\n",
        "\n",
        "\n",
        "### Es mi primer notebook en kaggle y en la vida, espero no sea el último.\n",
        "### Podemos decir que los usuarios de dispositivos inteligentes tienden a caminar mucho mas que una persona promedio\n",
        "### El promedio de pasos pordía que da un usuario de dispositivos tipo \"fitbit\" es de **6547**\n",
        "\n",
        "### Por lógica, tambien queman mas calorías que una persona promedio\n",
        "### El promedio de calorías consumidas por los usuarios son **2190**\n",
        "\n",
        "### Se puede observar tendencias interesantes en los últimos 2 gráficos.\n",
        "\n",
        "### Llega un punto donde el nivel de sedentarismo (aprox 1000 minutos promedio de actividad tipo sedentaria), lleva a que las calorías que se consumen sean muchisimo menores."
      ],
      "metadata": {
        "id": "fEpgy8T65QKM"
      }
    }
  ]
}